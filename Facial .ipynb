{
 "cells": [
  {
   "cell_type": "code",
   "execution_count": null,
   "metadata": {},
   "outputs": [],
   "source": [
    "# Detecting face\n",
    "import numpy as np\n",
    "import cv2\n",
    "\n",
    "detector= cv2.CascadeClassifier('haarcascade_frontalface_default.xml')\n",
    "cap = cv2.VideoCapture(0)\n",
    "\n",
    "while(True):\n",
    "    ret, img = cap.read()\n",
    "    gray = cv2.cvtColor(img, cv2.COLOR_BGR2GRAY)\n",
    "    faces = detector.detectMultiScale(gray, 1.5, 5)\n",
    "    for (x,y,w,h) in faces:\n",
    "        cv2.rectangle(img,(x,y),(x+w,y+h),(255,0,0),2)\n",
    "\n",
    "    cv2.imshow('frame',img)\n",
    "    if cv2.waitKey(1) & 0xFF == ord('q'):\n",
    "        break\n",
    "    \n",
    "cap.release()\n",
    "cv2.destroyAllWindows()"
   ]
  },
  {
   "cell_type": "code",
   "execution_count": null,
   "metadata": {},
   "outputs": [
    {
     "name": "stdout",
     "output_type": "stream",
     "text": [
      "enter your id1\n"
     ]
    }
   ],
   "source": [
    "### Enhancing code, no nid detect face only open window\n",
    "# Getting dataset\n",
    "\n",
    "import numpy as np\n",
    "import cv2,sqlite3\n",
    "\n",
    "cam = cv2.VideoCapture(0)\n",
    "detector=cv2.CascadeClassifier('haarcascade_frontalface_default.xml')\n",
    "\n",
    "#define function\n",
    "def insertOrUpdate(Id,Name,Age,Description):\n",
    "    conn=sqlite3.connect(\"FaceDB.db\")\n",
    "    cmd=\"SELECT * FROM PERSON WHERE ID=\"+str(Id)\n",
    "    cursor=conn.execute(cmd)\n",
    "    isRecordExist=0\n",
    "    for row in cursor:\n",
    "        isRecordExist=1\n",
    "    if(isRecordExist==1):\n",
    "        cmd=\"UPDATE PERSON SET Name='\"+str(Name)+\" ', Age=' \"+str(Age)+\" ',Description='\"+str(Description)+\" ' WHERE ID=\"+str(Id)\n",
    "    else:\n",
    "        cmd=\"INSERT INTO PERSON(ID,Age,Name,Description) Values(\"+str(Id)+\",\"+str(Age)+\",'\"+str(Name)+\" ','\"+str(Description)+\" ' )\"\n",
    "    conn.execute(cmd)\n",
    "    conn.commit()\n",
    "    conn.close()\n",
    "    \n",
    "\n",
    "Id=input('enter your id')\n",
    "Name=input('enter your name')\n",
    "Age=input('enter your age')\n",
    "Description=input('enter your description')\n",
    "insertOrUpdate(Id,Name,Age,Description)\n",
    "\n",
    "sampleNum=0\n",
    "if cam.isOpened():\n",
    "    while(cam.isOpened()):  # check !\n",
    "        # capture frame-by-frame\n",
    "        ret, img = cam.read()\n",
    "        cv2.imshow('frame', img)\n",
    "\n",
    "        if ret: # check ! (some webcam's need a \"warmup\")\n",
    "            # our operation on frame come here\n",
    "            gray = cv2.cvtColor(img, cv2.COLOR_BGR2GRAY)\n",
    "            faces = detector.detectMultiScale(gray, 1.3, 5)\n",
    "            for (x,y,w,h) in faces:\n",
    "                cv2.rectangle(img,(x,y),(x+w,y+h),(255,0,0),2)\n",
    "\n",
    "                #incrementing sample number \n",
    "                sampleNum=sampleNum+1\n",
    "                #saving the captured face in the dataset folder\n",
    "                cv2.imwrite(\"dataSet/User.\"+Id +'.'+ str(sampleNum) + \".jpg\", gray[y:y+h,x:x+w])\n",
    "                # Display the resulting frame\n",
    "                cv2.imshow('frame', img)\n",
    "\n",
    "        if cv2.waitKey(100) & 0xFF == ord('q'):\n",
    "            break\n",
    "            # break if the sample number is morethan 20\n",
    "        elif sampleNum>=40:\n",
    "            break\n",
    "    # When everything is done release the capture\n",
    "cam.release()\n",
    "cv2.destroyAllWindows()\n",
    "print(\"Data set updated\")"
   ]
  },
  {
   "cell_type": "code",
   "execution_count": 4,
   "metadata": {},
   "outputs": [
    {
     "name": "stdout",
     "output_type": "stream",
     "text": [
      "Face Trainned\n"
     ]
    }
   ],
   "source": [
    "#Training new face\n",
    "import cv2,os\n",
    "import numpy as np\n",
    "from PIL import Image\n",
    "\n",
    "#recognizer = cv2.face.FisherFaceRecognizer_create()\n",
    "#recognizer = cv2.face.EigenFaceRecognizer_create()\n",
    "recognizer = cv2.face.LBPHFaceRecognizer_create()\n",
    "#help(cv2.face)\n",
    "detector= cv2.CascadeClassifier(\"haarcascade_frontalface_default.xml\");\n",
    "\n",
    "def getImagesAndLabels(path):\n",
    "    #get the path of all the files in the folder\n",
    "    imagePaths=[os.path.join(path,f) for f in os.listdir(path)] \n",
    "    #create empth face list\n",
    "    faceSamples=[]\n",
    "    #create empty ID list\n",
    "    Ids=[]\n",
    "    #now looping through all the image paths and loading the Ids and the images\n",
    "    for imagePath in imagePaths:\n",
    "\n",
    "        # Updates in Code\n",
    "        # ignore if the file does not have jpg extension :\n",
    "        if(os.path.split(imagePath)[-1].split(\".\")[-1]!='jpg'):\n",
    "            continue\n",
    "\n",
    "        #loading the image and converting it to gray scale\n",
    "        pilImage=Image.open(imagePath).convert('L')        \n",
    "        #Now we are converting the PIL image into numpy array\n",
    "        imageNp=np.array(pilImage,'uint8')\n",
    "        #getting the Id from the image\n",
    "        Id=int(os.path.split(imagePath)[-1].split(\".\")[1])\n",
    "        # extract the face from the training image sample\n",
    "        faces=detector.detectMultiScale(imageNp)\n",
    "        #If a face is there then append that in the list as well as Id of it\n",
    "        for (x,y,w,h) in faces:\n",
    "            faceSamples.append(imageNp[y:y+h,x:x+w])\n",
    "            Ids.append(Id)\n",
    "    return faceSamples,Ids\n",
    "\n",
    "\n",
    "faces,Ids = getImagesAndLabels('dataSet')\n",
    "recognizer.train(faces, np.array(Ids))\n",
    "recognizer.write('trainner/trainner.yml')\n",
    "print('Face Trainned')"
   ]
  },
  {
   "cell_type": "code",
   "execution_count": 5,
   "metadata": {},
   "outputs": [
    {
     "name": "stdout",
     "output_type": "stream",
     "text": [
      "ok\n"
     ]
    }
   ],
   "source": [
    "#Detecting the face\n",
    "import cv2,sqlite3\n",
    "import numpy as np\n",
    "\n",
    "#recognizer = cv2.face.createFisherFaceRecognizer()\n",
    "#recognizer = cv2.face.createEigenFaceRecognizer()\n",
    "recognizer = cv2.face.LBPHFaceRecognizer_create()\n",
    "\n",
    "recognizer.read('trainner/trainner.yml')\n",
    "cascadePath = \"haarcascade_frontalface_default.xml\"\n",
    "faceCascade = cv2.CascadeClassifier(cascadePath);\n",
    "\n",
    "#def function\n",
    "def getProfile(Id):\n",
    "    conn=sqlite3.connect(\"FaceDB.db\")\n",
    "    cmd=\"SELECT * FROM PERSON WHERE ID=\"+str(Id)\n",
    "    cursor = conn.execute(cmd)\n",
    "    profile=None\n",
    "    for row in cursor:\n",
    "        profile=row\n",
    "    conn.close()\n",
    "    return profile\n",
    "\n",
    "\n",
    "cap = cv2.VideoCapture(0)\n",
    "fontface = cv2.FONT_HERSHEY_SIMPLEX\n",
    "fontscale = 1\n",
    "fontcolor = (54,67,244)\n",
    "\n",
    "if(cap.isOpened()):    \n",
    "    while(cap.isOpened()):\n",
    "        ret, img = cap.read()\n",
    "        #cv2.imshow('frame',img)\n",
    "        if ret:\n",
    "            gray = cv2.cvtColor(img, cv2.COLOR_BGR2GRAY)\n",
    "            faces = faceCascade.detectMultiScale(gray, 1.1, 5)\n",
    "            for (x,y,w,h) in faces:\n",
    "                cv2.rectangle(img,(x,y),(x+w,y+h),(255,0,0),2)\n",
    "                Id, conf = recognizer.predict(gray[y:y+h,x:x+w])\n",
    "                profile = getProfile(Id)\n",
    "                if(profile!=None):\n",
    "                    cv2.putText(img, str(profile[1]), (x,y+h+30), fontface, fontscale, fontcolor)\n",
    "                    cv2.putText(img, str(profile[2]), (x,y+h+60), fontface, fontscale, fontcolor)\n",
    "                    cv2.putText(img, str(profile[3]), (x,y+h+90), fontface, fontscale, fontcolor)                       \n",
    "                    cv2.putText(img, str(conf), (x,y+h+120), fontface, fontscale, fontcolor) \n",
    "            cv2.imshow('frame',img)\n",
    "        if cv2.waitKey(10) & 0xFF == ord('q'):\n",
    "            break\n",
    "\n",
    "cap.release()\n",
    "cv2.destroyAllWindows()\n",
    "\n",
    "print('ok')"
   ]
  },
  {
   "cell_type": "code",
   "execution_count": null,
   "metadata": {},
   "outputs": [],
   "source": [
    "#Delete 1 row database\n",
    "import sqlite3\n",
    "\n",
    "def clearRowDB(Id):\n",
    "    conn=sqlite3.connect(\"FaceDB.db\")\n",
    "    cmd=\"SELECT * FROM PERSON WHERE ID=\"+str(Id)\n",
    "    cursor=conn.execute(cmd)\n",
    "    isRecordExist=0\n",
    "    for row in cursor:\n",
    "        isRecordExist=1\n",
    "    if(isRecordExist==1):\n",
    "        cmd=\"DELETE FROM PERSON WHERE ID=\"+str(Id)\n",
    "        print(\"Row deleted\")\n",
    "    else:\n",
    "        print(\"No record found\")\n",
    "    conn.execute(cmd)\n",
    "    conn.commit()\n",
    "    conn.close()\n",
    "    \n",
    "Id=input(\"Enter deleted row id : \")\n",
    "clearRowDB(Id)\n"
   ]
  },
  {
   "cell_type": "code",
   "execution_count": null,
   "metadata": {},
   "outputs": [],
   "source": []
  },
  {
   "cell_type": "code",
   "execution_count": 2,
   "metadata": {
    "scrolled": true
   },
   "outputs": [
    {
     "name": "stdout",
     "output_type": "stream",
     "text": [
      "Database clear\n"
     ]
    }
   ],
   "source": [
    "#Clear databse\n",
    "import sqlite3\n",
    "\n",
    "def clearDB():\n",
    "    conn=sqlite3.connect(\"FaceDB.db\")\n",
    "    cmd=\"DELETE FROM PERSON\"\n",
    "    conn.execute(cmd)\n",
    "    conn.commit()\n",
    "    conn.close()\n",
    "    \n",
    "\n",
    "clearDB()\n",
    "print(\"Database clear\")"
   ]
  },
  {
   "cell_type": "code",
   "execution_count": null,
   "metadata": {},
   "outputs": [],
   "source": []
  }
 ],
 "metadata": {
  "kernelspec": {
   "display_name": "Python 3",
   "language": "python",
   "name": "python3"
  },
  "language_info": {
   "codemirror_mode": {
    "name": "ipython",
    "version": 3
   },
   "file_extension": ".py",
   "mimetype": "text/x-python",
   "name": "python",
   "nbconvert_exporter": "python",
   "pygments_lexer": "ipython3",
   "version": "3.6.4"
  }
 },
 "nbformat": 4,
 "nbformat_minor": 2
}
